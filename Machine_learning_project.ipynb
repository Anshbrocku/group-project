{
 "cells": [
  {
   "cell_type": "code",
   "execution_count": 13,
   "id": "c73f2409",
   "metadata": {},
   "outputs": [
    {
     "name": "stdout",
     "output_type": "stream",
     "text": [
      "699427    False\n",
      "166697    False\n",
      "79490      True\n",
      "764917    False\n",
      "357079     True\n",
      "          ...  \n",
      "759772    False\n",
      "703739     True\n",
      "545200    False\n",
      "404966    False\n",
      "581783    False\n",
      "Name: fraud, Length: 250000, dtype: bool\n"
     ]
    },
    {
     "name": "stderr",
     "output_type": "stream",
     "text": [
      "C:\\SCHOOL\\Lib\\site-packages\\sklearn\\base.py:464: UserWarning: X does not have valid feature names, but KNeighborsClassifier was fitted with feature names\n",
      "  warnings.warn(\n"
     ]
    },
    {
     "name": "stdout",
     "output_type": "stream",
     "text": [
      "non fraud cases 0.9909615317179227\n",
      "\n",
      "\n",
      "fraud cases:  0.9384376143432126\n"
     ]
    }
   ],
   "source": [
    "import pandas as pd\n",
    "import numpy as np\n",
    "from sklearn.neighbors import KNeighborsClassifier\n",
    "from sklearn.model_selection import train_test_split\n",
    "from sklearn.metrics import accuracy_score\n",
    "\n",
    "data = pd.read_csv('Data/credit3.csv')\n",
    "\n",
    "X = data.loc[:, ['distance_from_home','distance_from_last_transaction','ratio_to_median_purchase_price','repeat_retailer','used_chip','used_pin_number','online_order']]\n",
    "y = data['fraud']\n",
    "\n",
    "\n",
    "X_train, X_test, y_train, y_test = train_test_split(X, y, test_size=0.25)\n",
    "accuracy_list = []\n",
    "\n",
    "\n",
    "\n",
    "index = y_test == 1\n",
    "newx_test = X_test.loc[index, ['distance_from_home','distance_from_last_transaction','ratio_to_median_purchase_price','repeat_retailer','used_chip','used_pin_number','online_order']]\n",
    "newy_test = y_test.loc[index]\n",
    "\n",
    "accuracy_list = []\n",
    "for k in range(1,15):\n",
    "    model = KNeighborsClassifier(n_neighbors = k, metric = 'euclidean')\n",
    "    model.fit(X_train,y_train)\n",
    "    y_predicted = model.predict(newx_test.values)\n",
    "    accuracy = accuracy_score(newy_test, y_predicted)\n",
    "    accuracy_list.append(accuracy)\n",
    "print(accuracy_list)\n",
    "\n",
    "#Best k is 1\n",
    "\n",
    "\n",
    "model = KNeighborsClassifier(n_neighbors = 1, metric = 'euclidean')\n",
    "model.fit(X_train,y_train)\n",
    "index = y_test == 0\n",
    "newx_test = X_test.loc[index, ['distance_from_home','distance_from_last_transaction','ratio_to_median_purchase_price','repeat_retailer','used_chip','used_pin_number','online_order']]\n",
    "newy_test = y_test.loc[index]\n",
    "\n",
    "y_predicted = model.predict(newx_test.values)\n",
    "accuracy = accuracy_score(newy_test, y_predicted)\n",
    "\n",
    "print(\"non fraud cases\", accuracy)\n",
    "\n",
    "index = y_test == 1\n",
    "newx_test = X_test.loc[index, ['distance_from_home','distance_from_last_transaction','ratio_to_median_purchase_price','repeat_retailer','used_chip','used_pin_number','online_order']]\n",
    "newy_test = y_test.loc[index]\n",
    "\n",
    "\n",
    "y_predicted = model.predict(newx_test)\n",
    "accuracy = accuracy_score(newy_test, y_predicted)\n",
    "\n",
    "print(\"\\n\\nfraud cases: \", accuracy) \n",
    "\n"
   ]
  },
  {
   "cell_type": "code",
   "execution_count": 8,
   "id": "0038803d",
   "metadata": {},
   "outputs": [
    {
     "name": "stdout",
     "output_type": "stream",
     "text": [
      "fraud cases:  0.5983891634632985\n",
      "[[  0.01517702   0.02475579   0.86689177  -0.6220075   -1.05320128\n",
      "  -13.18184893   6.6813916 ]]\n",
      "<built-in method sort of numpy.ndarray object at 0x0000020B3D7AEFD0>\n",
      "non fraud cases:  0.9930308396304154\n"
     ]
    }
   ],
   "source": [
    "import pandas as pd\n",
    "import numpy as np\n",
    "from sklearn.linear_model import LogisticRegression\n",
    "from sklearn.model_selection import train_test_split\n",
    "from sklearn.metrics import accuracy_score\n",
    "\n",
    "#get data from files\n",
    "data = pd.read_csv('Data/credit3.csv')\n",
    "\n",
    "X = data.loc[:, ['distance_from_home','distance_from_last_transaction','ratio_to_median_purchase_price','repeat_retailer','used_chip','used_pin_number','online_order']]\n",
    "y = data['fraud']\n",
    "\n",
    "#split into train and test\n",
    "X_train, X_test, y_train, y_test = train_test_split(X, y, test_size=0.25)\n",
    "accuracy_list = []\n",
    "\n",
    "\n",
    "#create the model and train it\n",
    "model = LogisticRegression(max_iter=1000)\n",
    "model.fit(X_train,y_train)\n",
    "\n",
    "#split the test values\n",
    "index = y_test == 1\n",
    "newx_test = X_test.loc[index, ['distance_from_home','distance_from_last_transaction',\n",
    "                               'ratio_to_median_purchase_price','repeat_retailer','used_chip',\n",
    "                               'used_pin_number','online_order']]\n",
    "newy_test = y_test.loc[index]\n",
    "\n",
    "#predict new test values and print\n",
    "y_predicted = model.predict(newx_test)\n",
    "accuracy = accuracy_score(newy_test, y_predicted)\n",
    "\n",
    "print(\"fraud cases: \", accuracy)\n",
    "\n",
    "#split the test values\n",
    "index = y_test == 0\n",
    "newx_test = X_test.loc[index, ['distance_from_home','distance_from_last_transaction','ratio_to_median_purchase_price','repeat_retailer','used_chip','used_pin_number','online_order']]\n",
    "newy_test = y_test.loc[index]\n",
    "\n",
    "#predict new test values and print\n",
    "y_predicted = model.predict(newx_test)\n",
    "accuracy = accuracy_score(newy_test, y_predicted)\n",
    "\n",
    "print(\"non fraud cases: \", accuracy) \n",
    "\n",
    "\n",
    "factors = model.coef_\n",
    "print(factors)\n",
    "\n"
   ]
  },
  {
   "cell_type": "code",
   "execution_count": 10,
   "id": "4ea5c7d1",
   "metadata": {},
   "outputs": [
    {
     "name": "stdout",
     "output_type": "stream",
     "text": [
      "fraud cases:  0.5925618692105628\n",
      "non fraud cases:  0.9853554678677242\n"
     ]
    }
   ],
   "source": [
    "import pandas as pd\n",
    "import numpy as np\n",
    "from sklearn.naive_bayes import GaussianNB\n",
    "from sklearn.model_selection import train_test_split\n",
    "from sklearn.metrics import accuracy_score\n",
    "\n",
    "data = pd.read_csv('Data/credit3.csv')\n",
    "\n",
    "X = data.loc[:, ['distance_from_home','distance_from_last_transaction','ratio_to_median_purchase_price','repeat_retailer','used_chip','used_pin_number','online_order']]\n",
    "y = data['fraud']\n",
    "\n",
    "\n",
    "X_train, X_test, y_train, y_test = train_test_split(X, y, test_size=0.33)\n",
    "accuracy_list = []\n",
    "\n",
    "index = y_test == 1\n",
    "newx_test = X_test.loc[index, ['distance_from_home','distance_from_last_transaction','ratio_to_median_purchase_price','repeat_retailer','used_chip','used_pin_number','online_order']]\n",
    "newy_test = y_test.loc[index]\n",
    "\n",
    "\n",
    "model = GaussianNB()\n",
    "model.fit(X_train,y_train)\n",
    "y_predicted = model.predict(newx_test)\n",
    "accuracy = accuracy_score(newy_test, y_predicted)\n",
    "\n",
    "print(\"fraud cases: \", accuracy) \n",
    "\n",
    "index = y_test == 0\n",
    "newx_test = X_test.loc[index, ['distance_from_home','distance_from_last_transaction','ratio_to_median_purchase_price','repeat_retailer','used_chip','used_pin_number','online_order']]\n",
    "newy_test = y_test.loc[index]\n",
    "\n",
    "y_predicted = model.predict(newx_test)\n",
    "accuracy = accuracy_score(newy_test, y_predicted)\n",
    "\n",
    "print(\"non fraud cases: \", accuracy) "
   ]
  },
  {
   "cell_type": "code",
   "execution_count": null,
   "id": "8587fb7b",
   "metadata": {},
   "outputs": [],
   "source": []
  }
 ],
 "metadata": {
  "kernelspec": {
   "display_name": "Python 3 (ipykernel)",
   "language": "python",
   "name": "python3"
  },
  "language_info": {
   "codemirror_mode": {
    "name": "ipython",
    "version": 3
   },
   "file_extension": ".py",
   "mimetype": "text/x-python",
   "name": "python",
   "nbconvert_exporter": "python",
   "pygments_lexer": "ipython3",
   "version": "3.11.4"
  }
 },
 "nbformat": 4,
 "nbformat_minor": 5
}
